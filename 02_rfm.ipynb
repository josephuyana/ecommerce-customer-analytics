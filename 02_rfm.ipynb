{
 "cells": [
  {
   "cell_type": "code",
   "execution_count": 9,
   "id": "e1c141e6",
   "metadata": {},
   "outputs": [
    {
     "data": {
      "text/html": [
       "<div>\n",
       "<style scoped>\n",
       "    .dataframe tbody tr th:only-of-type {\n",
       "        vertical-align: middle;\n",
       "    }\n",
       "\n",
       "    .dataframe tbody tr th {\n",
       "        vertical-align: top;\n",
       "    }\n",
       "\n",
       "    .dataframe thead th {\n",
       "        text-align: right;\n",
       "    }\n",
       "</style>\n",
       "<table border=\"1\" class=\"dataframe\">\n",
       "  <thead>\n",
       "    <tr style=\"text-align: right;\">\n",
       "      <th></th>\n",
       "      <th>InvoiceNo</th>\n",
       "      <th>StockCode</th>\n",
       "      <th>Description</th>\n",
       "      <th>Quantity</th>\n",
       "      <th>InvoiceDate</th>\n",
       "      <th>UnitPrice</th>\n",
       "      <th>CustomerID</th>\n",
       "      <th>Country</th>\n",
       "    </tr>\n",
       "  </thead>\n",
       "  <tbody>\n",
       "    <tr>\n",
       "      <th>0</th>\n",
       "      <td>536365</td>\n",
       "      <td>85123A</td>\n",
       "      <td>WHITE HANGING HEART T-LIGHT HOLDER</td>\n",
       "      <td>6</td>\n",
       "      <td>2010-12-01 08:26:00</td>\n",
       "      <td>2.55</td>\n",
       "      <td>17850.0</td>\n",
       "      <td>United Kingdom</td>\n",
       "    </tr>\n",
       "    <tr>\n",
       "      <th>1</th>\n",
       "      <td>536365</td>\n",
       "      <td>71053</td>\n",
       "      <td>WHITE METAL LANTERN</td>\n",
       "      <td>6</td>\n",
       "      <td>2010-12-01 08:26:00</td>\n",
       "      <td>3.39</td>\n",
       "      <td>17850.0</td>\n",
       "      <td>United Kingdom</td>\n",
       "    </tr>\n",
       "    <tr>\n",
       "      <th>2</th>\n",
       "      <td>536365</td>\n",
       "      <td>84406B</td>\n",
       "      <td>CREAM CUPID HEARTS COAT HANGER</td>\n",
       "      <td>8</td>\n",
       "      <td>2010-12-01 08:26:00</td>\n",
       "      <td>2.75</td>\n",
       "      <td>17850.0</td>\n",
       "      <td>United Kingdom</td>\n",
       "    </tr>\n",
       "    <tr>\n",
       "      <th>3</th>\n",
       "      <td>536365</td>\n",
       "      <td>84029G</td>\n",
       "      <td>KNITTED UNION FLAG HOT WATER BOTTLE</td>\n",
       "      <td>6</td>\n",
       "      <td>2010-12-01 08:26:00</td>\n",
       "      <td>3.39</td>\n",
       "      <td>17850.0</td>\n",
       "      <td>United Kingdom</td>\n",
       "    </tr>\n",
       "    <tr>\n",
       "      <th>4</th>\n",
       "      <td>536365</td>\n",
       "      <td>84029E</td>\n",
       "      <td>RED WOOLLY HOTTIE WHITE HEART.</td>\n",
       "      <td>6</td>\n",
       "      <td>2010-12-01 08:26:00</td>\n",
       "      <td>3.39</td>\n",
       "      <td>17850.0</td>\n",
       "      <td>United Kingdom</td>\n",
       "    </tr>\n",
       "  </tbody>\n",
       "</table>\n",
       "</div>"
      ],
      "text/plain": [
       "  InvoiceNo StockCode                          Description  Quantity  \\\n",
       "0    536365    85123A   WHITE HANGING HEART T-LIGHT HOLDER         6   \n",
       "1    536365     71053                  WHITE METAL LANTERN         6   \n",
       "2    536365    84406B       CREAM CUPID HEARTS COAT HANGER         8   \n",
       "3    536365    84029G  KNITTED UNION FLAG HOT WATER BOTTLE         6   \n",
       "4    536365    84029E       RED WOOLLY HOTTIE WHITE HEART.         6   \n",
       "\n",
       "          InvoiceDate  UnitPrice  CustomerID         Country  \n",
       "0 2010-12-01 08:26:00       2.55     17850.0  United Kingdom  \n",
       "1 2010-12-01 08:26:00       3.39     17850.0  United Kingdom  \n",
       "2 2010-12-01 08:26:00       2.75     17850.0  United Kingdom  \n",
       "3 2010-12-01 08:26:00       3.39     17850.0  United Kingdom  \n",
       "4 2010-12-01 08:26:00       3.39     17850.0  United Kingdom  "
      ]
     },
     "execution_count": 9,
     "metadata": {},
     "output_type": "execute_result"
    }
   ],
   "source": [
    "# Cell 1: imports\n",
    "import pandas as pd\n",
    "\n",
    "# Cell 2: load data\n",
    "df = pd.read_excel(\"data/Online Retail.xlsx\")\n",
    "df.head()\n"
   ]
  },
  {
   "cell_type": "code",
   "execution_count": 10,
   "id": "f48e2f9c",
   "metadata": {},
   "outputs": [
    {
     "name": "stdout",
     "output_type": "stream",
     "text": [
      "<class 'pandas.core.frame.DataFrame'>\n",
      "RangeIndex: 541909 entries, 0 to 541908\n",
      "Data columns (total 8 columns):\n",
      " #   Column       Non-Null Count   Dtype         \n",
      "---  ------       --------------   -----         \n",
      " 0   InvoiceNo    541909 non-null  object        \n",
      " 1   StockCode    541909 non-null  object        \n",
      " 2   Description  540455 non-null  object        \n",
      " 3   Quantity     541909 non-null  int64         \n",
      " 4   InvoiceDate  541909 non-null  datetime64[ns]\n",
      " 5   UnitPrice    541909 non-null  float64       \n",
      " 6   CustomerID   406829 non-null  float64       \n",
      " 7   Country      541909 non-null  object        \n",
      "dtypes: datetime64[ns](1), float64(2), int64(1), object(4)\n",
      "memory usage: 33.1+ MB\n"
     ]
    },
    {
     "data": {
      "text/plain": [
       "InvoiceNo           0\n",
       "StockCode           0\n",
       "Description      1454\n",
       "Quantity            0\n",
       "InvoiceDate         0\n",
       "UnitPrice           0\n",
       "CustomerID     135080\n",
       "Country             0\n",
       "dtype: int64"
      ]
     },
     "execution_count": 10,
     "metadata": {},
     "output_type": "execute_result"
    }
   ],
   "source": [
    "# Cell 3: info & nulls\n",
    "df.info()\n",
    "df.isnull().sum()\n"
   ]
  },
  {
   "cell_type": "code",
   "execution_count": 11,
   "id": "f0063c3d",
   "metadata": {},
   "outputs": [
    {
     "name": "stdout",
     "output_type": "stream",
     "text": [
      "Cancelled: 9288\n",
      "Duplicates: 5268\n"
     ]
    }
   ],
   "source": [
    "# Cell 4: detect cancelled invoices & duplicates\n",
    "print(\"Cancelled:\", df[df[\"InvoiceNo\"].astype(str).str.startswith(\"C\")].shape[0])\n",
    "print(\"Duplicates:\", df.duplicated().sum())\n"
   ]
  },
  {
   "cell_type": "code",
   "execution_count": 12,
   "id": "b70c05f1",
   "metadata": {},
   "outputs": [],
   "source": [
    "# Cell 5: preliminary cleaning\n",
    "df_clean = df.drop_duplicates()\n",
    "df_clean = df_clean[~df_clean[\"InvoiceNo\"].astype(str).str.startswith(\"C\")]\n"
   ]
  },
  {
   "cell_type": "code",
   "execution_count": 13,
   "id": "f2cd2dd4",
   "metadata": {},
   "outputs": [],
   "source": [
    "#Fecha referencia \n",
    "\n",
    "snapshot_date = df_clean['InvoiceDate'].max() + pd.Timedelta(days=1)"
   ]
  },
  {
   "cell_type": "code",
   "execution_count": 14,
   "id": "b4485f90",
   "metadata": {},
   "outputs": [
    {
     "name": "stdout",
     "output_type": "stream",
     "text": [
      "            Recency  Frequency  MonetaryValue\n",
      "CustomerID                                   \n",
      "12346.0         326          1       77183.60\n",
      "12347.0           2          7        4310.00\n",
      "12348.0          75          4        1797.24\n",
      "12349.0          19          1        1757.55\n",
      "12350.0         310          1         334.40\n"
     ]
    }
   ],
   "source": [
    "# Sólo clientes con ID (sin nulls)\n",
    "df_customers = df_clean.dropna(subset=['CustomerID'])\n",
    "\n",
    "# Cálculo de métricas RFM\n",
    "rfm = df_customers.groupby('CustomerID').agg({\n",
    "    'InvoiceDate': lambda x: (snapshot_date - x.max()).days,  # Recency\n",
    "    'InvoiceNo': 'nunique',                                 # Frequency\n",
    "    'UnitPrice': lambda x: (x * df_customers.loc[x.index, 'Quantity']).sum()  # Monetary\n",
    "})\n",
    "\n",
    "# Renombrar columnas\n",
    "rfm.rename(columns={\n",
    "    'InvoiceDate': 'Recency',\n",
    "    'InvoiceNo': 'Frequency',\n",
    "    'UnitPrice': 'MonetaryValue'\n",
    "}, inplace=True)\n",
    "\n",
    "# Revisar resultado\n",
    "print(rfm.head())\n"
   ]
  },
  {
   "cell_type": "code",
   "execution_count": null,
   "id": "79467e03",
   "metadata": {},
   "outputs": [
    {
     "name": "stdout",
     "output_type": "stream",
     "text": [
      "            Frequency  Freq_Rank\n",
      "CustomerID                      \n",
      "12346.0             1        1.0\n",
      "12358.0             2        2.0\n",
      "12356.0             3        3.0\n",
      "12348.0             4        4.0\n",
      "12381.0             5        5.0\n",
      "12388.0             6        6.0\n",
      "12347.0             7        7.0\n",
      "12352.0             8        8.0\n",
      "12417.0             9        9.0\n",
      "12362.0            10       10.0\n"
     ]
    },
    {
     "ename": "ValueError",
     "evalue": "Bin labels must be one fewer than the number of bin edges",
     "output_type": "error",
     "traceback": [
      "\u001b[31m---------------------------------------------------------------------------\u001b[39m",
      "\u001b[31mValueError\u001b[39m                                Traceback (most recent call last)",
      "\u001b[36mCell\u001b[39m\u001b[36m \u001b[39m\u001b[32mIn[28]\u001b[39m\u001b[32m, line 9\u001b[39m\n\u001b[32m      7\u001b[39m \u001b[38;5;66;03m# Crear funciones de scoring basadas en quintiles\u001b[39;00m\n\u001b[32m      8\u001b[39m rfm[\u001b[33m'\u001b[39m\u001b[33mR_Score\u001b[39m\u001b[33m'\u001b[39m] = pd.qcut(rfm[\u001b[33m'\u001b[39m\u001b[33mRecency\u001b[39m\u001b[33m'\u001b[39m], \u001b[32m5\u001b[39m, labels=[\u001b[32m5\u001b[39m,\u001b[32m4\u001b[39m,\u001b[32m3\u001b[39m,\u001b[32m2\u001b[39m,\u001b[32m1\u001b[39m]).astype(\u001b[38;5;28mint\u001b[39m)\n\u001b[32m----> \u001b[39m\u001b[32m9\u001b[39m rfm[\u001b[33m'\u001b[39m\u001b[33mF_Score\u001b[39m\u001b[33m'\u001b[39m] = \u001b[43mpd\u001b[49m\u001b[43m.\u001b[49m\u001b[43mqcut\u001b[49m\u001b[43m(\u001b[49m\u001b[43mrfm\u001b[49m\u001b[43m[\u001b[49m\u001b[33;43m'\u001b[39;49m\u001b[33;43mFreq_Rank\u001b[39;49m\u001b[33;43m'\u001b[39;49m\u001b[43m]\u001b[49m\u001b[43m,\u001b[49m\u001b[43m \u001b[49m\u001b[32;43m5\u001b[39;49m\u001b[43m,\u001b[49m\u001b[43m \u001b[49m\u001b[43mlabels\u001b[49m\u001b[43m=\u001b[49m\u001b[43m[\u001b[49m\u001b[32;43m1\u001b[39;49m\u001b[43m,\u001b[49m\u001b[32;43m2\u001b[39;49m\u001b[43m]\u001b[49m\u001b[43m,\u001b[49m\u001b[43m \u001b[49m\u001b[43mduplicates\u001b[49m\u001b[43m=\u001b[49m\u001b[33;43m'\u001b[39;49m\u001b[33;43mdrop\u001b[39;49m\u001b[33;43m'\u001b[39;49m\u001b[43m)\u001b[49m.astype(\u001b[38;5;28mint\u001b[39m)\n\u001b[32m     10\u001b[39m rfm[\u001b[33m'\u001b[39m\u001b[33mM_Score\u001b[39m\u001b[33m'\u001b[39m] = pd.qcut(rfm[\u001b[33m'\u001b[39m\u001b[33mMonetaryValue\u001b[39m\u001b[33m'\u001b[39m], \u001b[32m5\u001b[39m, labels=[\u001b[32m1\u001b[39m,\u001b[32m2\u001b[39m,\u001b[32m3\u001b[39m,\u001b[32m4\u001b[39m,\u001b[32m5\u001b[39m]).astype(\u001b[38;5;28mint\u001b[39m)\n\u001b[32m     12\u001b[39m \u001b[38;5;66;03m# Concatenar en un solo código RFM\u001b[39;00m\n",
      "\u001b[36mFile \u001b[39m\u001b[32mc:\\Users\\HAYAI\\Desktop\\Portfolio_Data_Projects\\Next.js_Projects\\ecommerce-customer-analytics\\venv\\Lib\\site-packages\\pandas\\core\\reshape\\tile.py:340\u001b[39m, in \u001b[36mqcut\u001b[39m\u001b[34m(x, q, labels, retbins, precision, duplicates)\u001b[39m\n\u001b[32m    336\u001b[39m quantiles = np.linspace(\u001b[32m0\u001b[39m, \u001b[32m1\u001b[39m, q + \u001b[32m1\u001b[39m) \u001b[38;5;28;01mif\u001b[39;00m is_integer(q) \u001b[38;5;28;01melse\u001b[39;00m q\n\u001b[32m    338\u001b[39m bins = x_idx.to_series().dropna().quantile(quantiles)\n\u001b[32m--> \u001b[39m\u001b[32m340\u001b[39m fac, bins = \u001b[43m_bins_to_cuts\u001b[49m\u001b[43m(\u001b[49m\n\u001b[32m    341\u001b[39m \u001b[43m    \u001b[49m\u001b[43mx_idx\u001b[49m\u001b[43m,\u001b[49m\n\u001b[32m    342\u001b[39m \u001b[43m    \u001b[49m\u001b[43mIndex\u001b[49m\u001b[43m(\u001b[49m\u001b[43mbins\u001b[49m\u001b[43m)\u001b[49m\u001b[43m,\u001b[49m\n\u001b[32m    343\u001b[39m \u001b[43m    \u001b[49m\u001b[43mlabels\u001b[49m\u001b[43m=\u001b[49m\u001b[43mlabels\u001b[49m\u001b[43m,\u001b[49m\n\u001b[32m    344\u001b[39m \u001b[43m    \u001b[49m\u001b[43mprecision\u001b[49m\u001b[43m=\u001b[49m\u001b[43mprecision\u001b[49m\u001b[43m,\u001b[49m\n\u001b[32m    345\u001b[39m \u001b[43m    \u001b[49m\u001b[43minclude_lowest\u001b[49m\u001b[43m=\u001b[49m\u001b[38;5;28;43;01mTrue\u001b[39;49;00m\u001b[43m,\u001b[49m\n\u001b[32m    346\u001b[39m \u001b[43m    \u001b[49m\u001b[43mduplicates\u001b[49m\u001b[43m=\u001b[49m\u001b[43mduplicates\u001b[49m\u001b[43m,\u001b[49m\n\u001b[32m    347\u001b[39m \u001b[43m\u001b[49m\u001b[43m)\u001b[49m\n\u001b[32m    349\u001b[39m \u001b[38;5;28;01mreturn\u001b[39;00m _postprocess_for_cut(fac, bins, retbins, original)\n",
      "\u001b[36mFile \u001b[39m\u001b[32mc:\\Users\\HAYAI\\Desktop\\Portfolio_Data_Projects\\Next.js_Projects\\ecommerce-customer-analytics\\venv\\Lib\\site-packages\\pandas\\core\\reshape\\tile.py:493\u001b[39m, in \u001b[36m_bins_to_cuts\u001b[39m\u001b[34m(x_idx, bins, right, labels, precision, include_lowest, duplicates, ordered)\u001b[39m\n\u001b[32m    491\u001b[39m \u001b[38;5;28;01melse\u001b[39;00m:\n\u001b[32m    492\u001b[39m     \u001b[38;5;28;01mif\u001b[39;00m \u001b[38;5;28mlen\u001b[39m(labels) != \u001b[38;5;28mlen\u001b[39m(bins) - \u001b[32m1\u001b[39m:\n\u001b[32m--> \u001b[39m\u001b[32m493\u001b[39m         \u001b[38;5;28;01mraise\u001b[39;00m \u001b[38;5;167;01mValueError\u001b[39;00m(\n\u001b[32m    494\u001b[39m             \u001b[33m\"\u001b[39m\u001b[33mBin labels must be one fewer than the number of bin edges\u001b[39m\u001b[33m\"\u001b[39m\n\u001b[32m    495\u001b[39m         )\n\u001b[32m    497\u001b[39m \u001b[38;5;28;01mif\u001b[39;00m \u001b[38;5;129;01mnot\u001b[39;00m \u001b[38;5;28misinstance\u001b[39m(\u001b[38;5;28mgetattr\u001b[39m(labels, \u001b[33m\"\u001b[39m\u001b[33mdtype\u001b[39m\u001b[33m\"\u001b[39m, \u001b[38;5;28;01mNone\u001b[39;00m), CategoricalDtype):\n\u001b[32m    498\u001b[39m     labels = Categorical(\n\u001b[32m    499\u001b[39m         labels,\n\u001b[32m    500\u001b[39m         categories=labels \u001b[38;5;28;01mif\u001b[39;00m \u001b[38;5;28mlen\u001b[39m(\u001b[38;5;28mset\u001b[39m(labels)) == \u001b[38;5;28mlen\u001b[39m(labels) \u001b[38;5;28;01melse\u001b[39;00m \u001b[38;5;28;01mNone\u001b[39;00m,\n\u001b[32m    501\u001b[39m         ordered=ordered,\n\u001b[32m    502\u001b[39m     )\n",
      "\u001b[31mValueError\u001b[39m: Bin labels must be one fewer than the number of bin edges"
     ]
    }
   ],
   "source": [
    "#    Cada valor único de Frequency recibe un entero consecutivo.\n",
    "rfm['Freq_Rank'] = rfm['Frequency'].rank(method='dense')\n",
    "\n",
    "# 2. Verifica los primeros valores\n",
    "print(rfm[['Frequency', 'Freq_Rank']].drop_duplicates().sort_values('Frequency').head(10))\n",
    "\n",
    "# Crear funciones de scoring basadas en quintiles\n",
    "rfm['R_Score'] = pd.qcut(rfm['Recency'], 5, labels=[5,4,3,2,1]).astype(int)\n",
    "rfm['F_Score'] = pd.qcut(rfm['Freq_Rank'], 5, labels=[1,2,3,4,5], duplicates='drop').astype(int)\n",
    "rfm['M_Score'] = pd.qcut(rfm['MonetaryValue'], 5, labels=[1,2,3,4,5]).astype(int)\n",
    "\n",
    "# Concatenar en un solo código RFM\n",
    "rfm['RFM_Segment'] = rfm['R_Score'].astype(str) \\\n",
    "                    + rfm['F_Score'].astype(str) \\\n",
    "                    + rfm['M_Score'].astype(str)\n",
    "\n",
    "# Añadir RFM Score total si quieres (opcional)\n",
    "rfm['RFM_Score'] = rfm[['R_Score','F_Score','M_Score']].sum(axis=1)\n",
    "\n",
    "# Verifica\n",
    "print(rfm[['Recency','Frequency','MonetaryValue','RFM_Segment','RFM_Score']].head())\n"
   ]
  },
  {
   "cell_type": "code",
   "execution_count": null,
   "id": "b6f85815",
   "metadata": {},
   "outputs": [],
   "source": [
    "# Exporta a CSV para tu dashboard y README\n",
    "rfm.to_csv('data/rfm_segments.csv', index=True)"
   ]
  }
 ],
 "metadata": {
  "kernelspec": {
   "display_name": "venv",
   "language": "python",
   "name": "python3"
  },
  "language_info": {
   "codemirror_mode": {
    "name": "ipython",
    "version": 3
   },
   "file_extension": ".py",
   "mimetype": "text/x-python",
   "name": "python",
   "nbconvert_exporter": "python",
   "pygments_lexer": "ipython3",
   "version": "3.13.3"
  }
 },
 "nbformat": 4,
 "nbformat_minor": 5
}
